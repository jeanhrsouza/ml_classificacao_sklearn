{
  "nbformat": 4,
  "nbformat_minor": 0,
  "metadata": {
    "colab": {
      "name": "Projeto01.ipynb",
      "provenance": [],
      "authorship_tag": "ABX9TyMyed+Ul1LnuIekDzJVxs6y",
      "include_colab_link": true
    },
    "kernelspec": {
      "name": "python3",
      "display_name": "Python 3"
    },
    "language_info": {
      "name": "python"
    }
  },
  "cells": [
    {
      "cell_type": "markdown",
      "metadata": {
        "id": "view-in-github",
        "colab_type": "text"
      },
      "source": [
        "<a href=\"https://colab.research.google.com/github/jeanhrsouza/ml_classificacao_sklearn/blob/main/Projeto01.ipynb\" target=\"_parent\"><img src=\"https://colab.research.google.com/assets/colab-badge.svg\" alt=\"Open In Colab\"/></a>"
      ]
    },
    {
      "cell_type": "markdown",
      "source": [
        "# Curso de Machine Learning: classificação com SKLearn\n",
        "\n",
        "## Projeto 01.\n",
        "\n",
        "O objetivo do projeto 01 é aplicar algoritmo de classificação a fim de identificar se o animal é um cachorro ou um porco\n",
        "\n",
        "\n",
        "Bibliotecas:\n",
        "- [SKLearn](https://scikit-learn.org/stable/)"
      ],
      "metadata": {
        "id": "nhQU4yr-Au1X"
      }
    },
    {
      "cell_type": "markdown",
      "source": [
        "## Primeiro treino e teste de um modelo de classificação\n",
        "\n",
        "Trabalhando com as features (características que o animal tem). Assim, identificando se:\n",
        "- O pelo é longo?\n",
        "- A perna é  curta?\n",
        "- Faz Auau?\n",
        "\n",
        "\n",
        "\n"
      ],
      "metadata": {
        "id": "mRKkVPhdBzl3"
      }
    },
    {
      "cell_type": "markdown",
      "source": [
        "Tendo como valores:\n",
        "- 0 → Não\n",
        "- 1 → Sim\n",
        "\n",
        "\n",
        "Classe de animais:\n",
        "- 0 → Cachorro\n",
        "- 1 → Porco\n",
        "\n",
        "---\n",
        "\n",
        "f(x) = y\n",
        "\n",
        "X => dados\n",
        "\n",
        "y => classes"
      ],
      "metadata": {
        "id": "01bS-wWY6NhD"
      }
    },
    {
      "cell_type": "code",
      "execution_count": null,
      "metadata": {
        "id": "V1zvLurqAszc"
      },
      "outputs": [],
      "source": [
        "#features (1 sim, 0 não)\n",
        "#pelo longo?\n",
        "#perna curta?\n",
        "# faz auau?\n",
        "porco1 = [0, 1, 0]\n",
        "porco2 = [0, 1, 1]\n",
        "porco3 = [1, 1, 0]\n",
        "\n",
        "cachorro1 = [0, 1, 1]\n",
        "cachorro2 = [1, 0, 1]\n",
        "cachorro3 = [1, 1, 1]\n",
        "\n",
        "#Criando os dados\n",
        "treino_x = [porco1, porco2, porco3, cachorro1, cachorro2, cachorro3]\n",
        "\n",
        "#(Classes ou labels) 1 => porco, 0 => cachorro\n",
        "treino_y = [1, 1, 1, 0, 0, 0]\n",
        "\n"
      ]
    },
    {
      "cell_type": "code",
      "source": [
        "#Importando estimador da biblioteca sklearn\n",
        "from sklearn.svm import LinearSVC\n",
        "\n",
        "#Criando um modelo instanciando o LinearSVC\n",
        "model = LinearSVC()\n",
        "\n",
        "#Ensinando o modelo a partir do supervisionamento\n",
        "model.fit(treino_x, treino_y)"
      ],
      "metadata": {
        "colab": {
          "base_uri": "https://localhost:8080/"
        },
        "id": "xmzR7TblDEtR",
        "outputId": "97b1f4f9-5252-4f6a-f326-60054460c507"
      },
      "execution_count": null,
      "outputs": [
        {
          "output_type": "execute_result",
          "data": {
            "text/plain": [
              "LinearSVC()"
            ]
          },
          "metadata": {},
          "execution_count": 2
        }
      ]
    },
    {
      "cell_type": "code",
      "source": [
        "#Criando um animal para o modelo descobrir\n",
        "animal_misterioso = [1, 1, 1]\n",
        "\n",
        "model.predict([animal_misterioso])"
      ],
      "metadata": {
        "colab": {
          "base_uri": "https://localhost:8080/"
        },
        "id": "mh57o1xZFHwx",
        "outputId": "7b16dec4-ac9b-4099-ef08-7fec95c5b046"
      },
      "execution_count": null,
      "outputs": [
        {
          "output_type": "execute_result",
          "data": {
            "text/plain": [
              "array([0])"
            ]
          },
          "metadata": {},
          "execution_count": 3
        }
      ]
    },
    {
      "cell_type": "code",
      "source": [
        "misterio1 = [1, 1, 1]\n",
        "misterio2 = [1, 1, 0]\n",
        "misterio3 = [0, 1, 1]\n",
        "\n",
        "\n",
        "teste_x = [misterio1, misterio2, misterio3]\n",
        "teste_y = [0, 1, 1] #Valores reais dos animais misteriosos\n",
        "\n",
        "#Atribuindo resultado da predição em uma variável\n",
        "previsoes = model.predict(teste_x) \n",
        "\n"
      ],
      "metadata": {
        "id": "AvmfvnR5GGjo"
      },
      "execution_count": null,
      "outputs": []
    },
    {
      "cell_type": "markdown",
      "source": [
        "A partir do retorno de 'previsoes', por ser um array do numpy. Assim, facilitando os trabalhos numéricos. \n",
        "\n",
        "Entre eles, a comparação de elementos entre os arrays.\n",
        "\n",
        "E com o retorno de True e False, pode-se somar.\n",
        "\n"
      ],
      "metadata": {
        "id": "mRxr_yzkHqMv"
      }
    },
    {
      "cell_type": "code",
      "source": [
        "#Somando a quantidade de corretos\n",
        "corretos = (previsoes == teste_y).sum()\n",
        "#Tamanho do testes\n",
        "total = len(teste_x)\n",
        "\n",
        "\n",
        "#Taxa de acertos\n",
        "taxa_de_acerto = corretos/total\n",
        "\n",
        "print('Taxa de acerto: %.2f' % (taxa_de_acerto*100))"
      ],
      "metadata": {
        "colab": {
          "base_uri": "https://localhost:8080/"
        },
        "id": "ddwJEh-aHIeg",
        "outputId": "3bd75476-126d-40ca-d5f8-8a75ecb91c1c"
      },
      "execution_count": null,
      "outputs": [
        {
          "output_type": "stream",
          "name": "stdout",
          "text": [
            "Taxa de acerto: 66.67\n"
          ]
        }
      ]
    },
    {
      "cell_type": "code",
      "source": [
        "#Taxa de acerto usando o sklean (accuracy)\n",
        "\n",
        "#importando do sklean o accuracy_score\n",
        "from sklearn.metrics import accuracy_score\n",
        "\n",
        "\n",
        "taxa_de_acerto = accuracy_score(teste_y, previsoes)\n",
        "\n",
        "print('Taxa de acerto: %.2f' % (taxa_de_acerto*100))\n",
        "\n",
        "\n"
      ],
      "metadata": {
        "colab": {
          "base_uri": "https://localhost:8080/"
        },
        "id": "-OXBqmrCHKoo",
        "outputId": "6d9d83b2-a439-40f6-ed5b-0254dda8f852"
      },
      "execution_count": null,
      "outputs": [
        {
          "output_type": "stream",
          "name": "stdout",
          "text": [
            "Taxa de acerto: 66.67\n"
          ]
        }
      ]
    },
    {
      "cell_type": "code",
      "source": [
        ""
      ],
      "metadata": {
        "id": "htGyESXQJDFX"
      },
      "execution_count": null,
      "outputs": []
    }
  ]
}